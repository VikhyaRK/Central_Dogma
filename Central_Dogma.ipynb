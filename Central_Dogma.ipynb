{
 "cells": [
  {
   "cell_type": "code",
   "execution_count": 1,
   "id": "382a8415",
   "metadata": {},
   "outputs": [
    {
     "name": "stdout",
     "output_type": "stream",
     "text": [
      "ACATGGATATCAGTCGGACGGAACGATATCAGTTCCGGTGAGATATCAGT\n",
      "ACAUGGAUAUCAGUCGGACGGAACGAUAUCAGUUCCGGUGAGAUAUCAGU\n",
      "MDISRTERYQFR\n"
     ]
    }
   ],
   "source": [
    "DNA_file = open(\"DNA.txt\", \"r\")\n",
    "DNA_sequence = \"\".join(line.strip() for line in DNA_file.readlines())\n",
    "DNA_file.close()\n",
    "print(DNA_sequence)\n",
    "\n",
    "\n",
    "mrna_sequence = DNA_sequence.replace('T', 'U')\n",
    "print(mrna_sequence)\n",
    "\n",
    "mrna_file = open(\"mRNA.txt\", 'r+')\n",
    "mrna_file.write(mrna_sequence)\n",
    "mrna_file.close()\n",
    "\n",
    "\n",
    "def conversion(mrna_sequence):\n",
    "    genetic_code = {\n",
    "        'UUU': 'F', 'UUC': 'F', 'UUA': 'L', 'UUG': 'L',\n",
    "        'UCU': 'S', 'UCC': 'S', 'UCA': 'S', 'UCG': 'S',\n",
    "        'UAU': 'Y', 'UAC': 'Y', 'UAA': '*', 'UAG': '*',\n",
    "        'UGU': 'C', 'UGC': 'C', 'UGA': '*', 'UGG': 'W',\n",
    "        'CUU': 'L', 'CUC': 'L', 'CUA': 'L', 'CUG': 'L',\n",
    "        'CCU': 'P', 'CCC': 'P', 'CCA': 'P', 'CCG': 'P',\n",
    "        'CAU': 'H', 'CAC': 'H', 'CAA': 'Q', 'CAG': 'Q',\n",
    "        'CGU': 'R', 'CGC': 'R', 'CGA': 'R', 'CGG': 'R',\n",
    "        'AUU': 'I', 'AUC': 'I', 'AUA': 'I', 'AUG': 'M',\n",
    "        'ACU': 'T', 'ACC': 'T', 'ACA': 'T', 'ACG': 'T',\n",
    "        'AAU': 'N', 'AAC': 'N', 'AAA': 'K', 'AAG': 'K',\n",
    "        'AGU': 'S', 'AGC': 'S', 'AGA': 'R', 'AGG': 'R',\n",
    "        'GUU': 'V', 'GUC': 'V', 'GUA': 'V', 'GUG': 'V',\n",
    "        'GCU': 'A', 'GCC': 'A', 'GCA': 'A', 'GCG': 'A',\n",
    "        'GAU': 'D', 'GAC': 'D', 'GAA': 'E', 'GAG': 'E',\n",
    "        'GGU': 'G', 'GGC': 'G', 'GGA': 'G', 'GGG': 'G',\n",
    "    }\n",
    "    \n",
    "    i = 0\n",
    "    A = ''\n",
    "    start = False\n",
    "    j = 0\n",
    "\n",
    "    while j <= len(mrna_sequence) - 3:\n",
    "        if mrna_sequence[j:j + 3] == 'AUG':\n",
    "            start = True\n",
    "            break\n",
    "        j += 1\n",
    "\n",
    "    if not start:\n",
    "        return \"No starting codon in the sequence\"\n",
    "\n",
    "    while j < len(mrna_sequence):\n",
    "        if genetic_code[mrna_sequence[j:j+3]] == '*':\n",
    "            break\n",
    "\n",
    "        A += genetic_code[mrna_sequence[j:j+3]]\n",
    "        j += 3\n",
    "\n",
    "    if j >= len(mrna_sequence) or genetic_code[mrna_sequence[j:j+3]] != '*':\n",
    "        return \"There is no stop codon in the sequence\"\n",
    "\n",
    "    return A\n",
    "\n",
    "\n",
    "protein_sequence = conversion(mrna_sequence)\n",
    "\n",
    "with open(\"protein.txt\", \"w\") as protein_file:\n",
    "    protein_file.write(protein_sequence)\n",
    "\n",
    "print(protein_sequence)\n",
    "\n"
   ]
  },
  {
   "cell_type": "code",
   "execution_count": null,
   "id": "ad3da253",
   "metadata": {},
   "outputs": [],
   "source": [
    "\n"
   ]
  },
  {
   "cell_type": "code",
   "execution_count": null,
   "id": "453bc2c0",
   "metadata": {},
   "outputs": [],
   "source": []
  }
 ],
 "metadata": {
  "kernelspec": {
   "display_name": "Python 3 (ipykernel)",
   "language": "python",
   "name": "python3"
  },
  "language_info": {
   "codemirror_mode": {
    "name": "ipython",
    "version": 3
   },
   "file_extension": ".py",
   "mimetype": "text/x-python",
   "name": "python",
   "nbconvert_exporter": "python",
   "pygments_lexer": "ipython3",
   "version": "3.10.9"
  }
 },
 "nbformat": 4,
 "nbformat_minor": 5
}
